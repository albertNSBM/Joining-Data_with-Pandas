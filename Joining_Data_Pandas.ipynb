{
 "cells": [
  {
   "cell_type": "code",
   "execution_count": 1,
   "id": "2b78b07b",
   "metadata": {},
   "outputs": [],
   "source": [
    "import pandas as pd \n",
    "import matplotlib.pyplot as plt"
   ]
  },
  {
   "cell_type": "markdown",
   "id": "12b404f2",
   "metadata": {},
   "source": [
    "# Introduction to Joining data with pandas"
   ]
  },
  {
   "cell_type": "markdown",
   "id": "b36f20f0",
   "metadata": {},
   "source": [
    "# inner join by using (.merge()) function "
   ]
  },
  {
   "cell_type": "code",
   "execution_count": 21,
   "id": "2b88a7de",
   "metadata": {},
   "outputs": [],
   "source": [
    "taxi_owners=pd.read_pickle('Datasets/taxi_owners.p')\n",
    "taxi_veh=pd.read_pickle('Datasets/taxi_vehicles.p')\n",
    "ward=pd.read_pickle('Datasets/ward.p')\n",
    "census=pd.read_pickle('Datasets/census.p')\n",
    "# wards_altered=pd.read_pickle('Datasets/wards_altered.p')\n",
    "# census_altered=pd.read_pickle('Datasets/census_altered.p')\n"
   ]
  },
  {
   "cell_type": "code",
   "execution_count": 16,
   "id": "3981d2c3",
   "metadata": {},
   "outputs": [
    {
     "data": {
      "text/plain": [
       "HYBRID                    2792\n",
       "GASOLINE                   611\n",
       "FLEX FUEL                   89\n",
       "COMPRESSED NATURAL GAS      27\n",
       "Name: fuel_type, dtype: int64"
      ]
     },
     "execution_count": 16,
     "metadata": {},
     "output_type": "execute_result"
    }
   ],
   "source": [
    "# Merge taxi_owners with taxi_veh on the column vid, and save the result to taxi_own_veh.\n",
    "taxi_own_veh= taxi_owners.merge(taxi_veh,on='vid')\n",
    "taxi_own_veh.head()\n",
    "# Set the left and right table suffixes for overlapping columns of the merge to _own and _veh, respectively.\n",
    "taxi_own_veh=taxi_owners.merge(taxi_veh,on='vid',suffixes=('_own','_veh'))\n",
    "taxi_own_veh.head()\n",
    "# Select the fuel_type column from taxi_own_veh and print the value_counts() to find the most popular fuel_types used.\n",
    "taxi_own_veh['fuel_type'].value_counts()"
   ]
  },
  {
   "cell_type": "code",
   "execution_count": 19,
   "id": "d6b59537",
   "metadata": {},
   "outputs": [
    {
     "data": {
      "text/html": [
       "<div>\n",
       "<style scoped>\n",
       "    .dataframe tbody tr th:only-of-type {\n",
       "        vertical-align: middle;\n",
       "    }\n",
       "\n",
       "    .dataframe tbody tr th {\n",
       "        vertical-align: top;\n",
       "    }\n",
       "\n",
       "    .dataframe thead th {\n",
       "        text-align: right;\n",
       "    }\n",
       "</style>\n",
       "<table border=\"1\" class=\"dataframe\">\n",
       "  <thead>\n",
       "    <tr style=\"text-align: right;\">\n",
       "      <th></th>\n",
       "      <th>ward</th>\n",
       "      <th>alderman</th>\n",
       "      <th>address_x</th>\n",
       "      <th>zip_x</th>\n",
       "      <th>pop_2000</th>\n",
       "      <th>pop_2010</th>\n",
       "      <th>change</th>\n",
       "      <th>address_y</th>\n",
       "      <th>zip_y</th>\n",
       "    </tr>\n",
       "  </thead>\n",
       "  <tbody>\n",
       "    <tr>\n",
       "      <th>0</th>\n",
       "      <td>1</td>\n",
       "      <td>Proco \"Joe\" Moreno</td>\n",
       "      <td>2058 NORTH WESTERN AVENUE</td>\n",
       "      <td>60647</td>\n",
       "      <td>52951</td>\n",
       "      <td>56149</td>\n",
       "      <td>6%</td>\n",
       "      <td>2765 WEST SAINT MARY STREET</td>\n",
       "      <td>60647</td>\n",
       "    </tr>\n",
       "    <tr>\n",
       "      <th>1</th>\n",
       "      <td>2</td>\n",
       "      <td>Brian Hopkins</td>\n",
       "      <td>1400 NORTH  ASHLAND AVENUE</td>\n",
       "      <td>60622</td>\n",
       "      <td>54361</td>\n",
       "      <td>55805</td>\n",
       "      <td>3%</td>\n",
       "      <td>WM WASTE MANAGEMENT 1500</td>\n",
       "      <td>60622</td>\n",
       "    </tr>\n",
       "    <tr>\n",
       "      <th>2</th>\n",
       "      <td>3</td>\n",
       "      <td>Pat Dowell</td>\n",
       "      <td>5046 SOUTH STATE STREET</td>\n",
       "      <td>60609</td>\n",
       "      <td>40385</td>\n",
       "      <td>53039</td>\n",
       "      <td>31%</td>\n",
       "      <td>17 EAST 38TH STREET</td>\n",
       "      <td>60653</td>\n",
       "    </tr>\n",
       "    <tr>\n",
       "      <th>3</th>\n",
       "      <td>4</td>\n",
       "      <td>William D. Burns</td>\n",
       "      <td>435 EAST 35TH STREET, 1ST FLOOR</td>\n",
       "      <td>60616</td>\n",
       "      <td>51953</td>\n",
       "      <td>54589</td>\n",
       "      <td>5%</td>\n",
       "      <td>31ST ST HARBOR BUILDING LAKEFRONT TRAIL</td>\n",
       "      <td>60653</td>\n",
       "    </tr>\n",
       "    <tr>\n",
       "      <th>4</th>\n",
       "      <td>5</td>\n",
       "      <td>Leslie A. Hairston</td>\n",
       "      <td>2325 EAST 71ST STREET</td>\n",
       "      <td>60649</td>\n",
       "      <td>55302</td>\n",
       "      <td>51455</td>\n",
       "      <td>-7%</td>\n",
       "      <td>JACKSON PARK LAGOON SOUTH CORNELL DRIVE</td>\n",
       "      <td>60637</td>\n",
       "    </tr>\n",
       "  </tbody>\n",
       "</table>\n",
       "</div>"
      ],
      "text/plain": [
       "  ward            alderman                        address_x  zip_x  pop_2000  \\\n",
       "0    1  Proco \"Joe\" Moreno        2058 NORTH WESTERN AVENUE  60647     52951   \n",
       "1    2       Brian Hopkins       1400 NORTH  ASHLAND AVENUE  60622     54361   \n",
       "2    3          Pat Dowell          5046 SOUTH STATE STREET  60609     40385   \n",
       "3    4    William D. Burns  435 EAST 35TH STREET, 1ST FLOOR  60616     51953   \n",
       "4    5  Leslie A. Hairston            2325 EAST 71ST STREET  60649     55302   \n",
       "\n",
       "   pop_2010 change                                address_y  zip_y  \n",
       "0     56149     6%              2765 WEST SAINT MARY STREET  60647  \n",
       "1     55805     3%                 WM WASTE MANAGEMENT 1500  60622  \n",
       "2     53039    31%                      17 EAST 38TH STREET  60653  \n",
       "3     54589     5%  31ST ST HARBOR BUILDING LAKEFRONT TRAIL  60653  \n",
       "4     51455    -7%  JACKSON PARK LAGOON SOUTH CORNELL DRIVE  60637  "
      ]
     },
     "execution_count": 19,
     "metadata": {},
     "output_type": "execute_result"
    }
   ],
   "source": [
    "\n",
    "#Merge wards and census on the ward column and save the result to wards_census.\n",
    "wards_census=ward.merge(census,on='ward')\n"
   ]
  },
  {
   "cell_type": "code",
   "execution_count": null,
   "id": "69b080eb",
   "metadata": {},
   "outputs": [],
   "source": []
  },
  {
   "cell_type": "code",
   "execution_count": null,
   "id": "c1338dc7",
   "metadata": {},
   "outputs": [],
   "source": []
  },
  {
   "cell_type": "code",
   "execution_count": null,
   "id": "b27251fb",
   "metadata": {},
   "outputs": [],
   "source": []
  },
  {
   "cell_type": "code",
   "execution_count": null,
   "id": "60035877",
   "metadata": {},
   "outputs": [],
   "source": []
  },
  {
   "cell_type": "code",
   "execution_count": null,
   "id": "992c8812",
   "metadata": {},
   "outputs": [],
   "source": []
  },
  {
   "cell_type": "code",
   "execution_count": null,
   "id": "e68d3426",
   "metadata": {},
   "outputs": [],
   "source": []
  }
 ],
 "metadata": {
  "kernelspec": {
   "display_name": "Python 3 (ipykernel)",
   "language": "python",
   "name": "python3"
  },
  "language_info": {
   "codemirror_mode": {
    "name": "ipython",
    "version": 3
   },
   "file_extension": ".py",
   "mimetype": "text/x-python",
   "name": "python",
   "nbconvert_exporter": "python",
   "pygments_lexer": "ipython3",
   "version": "3.10.9"
  }
 },
 "nbformat": 4,
 "nbformat_minor": 5
}
